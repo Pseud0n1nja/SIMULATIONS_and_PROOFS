head(mtcars)
reg = lm(mpg ~ wt, mtcars)
plot(mtcars$mpg, mtcars$wt)
abline(reg, col="red")
